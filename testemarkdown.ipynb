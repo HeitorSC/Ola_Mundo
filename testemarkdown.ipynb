{
 "cells": [
  {
   "cell_type": "markdown",
   "id": "4d8a7f29",
   "metadata": {},
   "source": [
    "~~Heitor~~Heitor"
   ]
  },
  {
   "cell_type": "markdown",
   "id": "1e0aabea",
   "metadata": {},
   "source": [
    "__*Heitor*__"
   ]
  },
  {
   "cell_type": "markdown",
   "id": "5ba69995",
   "metadata": {},
   "source": [
    "# Resultado\n",
    "- [x] Heitor\n"
   ]
  },
  {
   "cell_type": "markdown",
   "id": "77a85d2c",
   "metadata": {},
   "source": [
    "# Título\n",
    "***\n",
    "Teste"
   ]
  },
  {
   "cell_type": "markdown",
   "id": "5bbfe5ea",
   "metadata": {},
   "source": [
    "***\n",
    "****"
   ]
  },
  {
   "cell_type": "markdown",
   "id": "a8e21573",
   "metadata": {},
   "source": [
    "Gostaria de maiores informações sobre o \n",
    "comando `window.document.querySelector()` \n",
    "da linguagem JavaScript. "
   ]
  },
  {
   "cell_type": "markdown",
   "id": "6eed402c",
   "metadata": {},
   "source": [
    "Olha só o programa que criei em **Python**: \n",
    "``` \n",
    "num = int(input('Digite um número: ')) \n",
    "if num % 2 == 0: \n",
    " print(f'O valor {num} é PAR') \n",
    "else: \n",
    " print(f'O valor {num} é ÍMPAR') \n",
    "print('Fim do Programa') \n",
    "``` "
   ]
  },
  {
   "cell_type": "markdown",
   "id": "88b4ef15",
   "metadata": {},
   "source": [
    "Durante o curso, usamos o perfil @gafanhotos para exercitar as ações em \n",
    "Git e GitHub. "
   ]
  },
  {
   "cell_type": "code",
   "execution_count": null,
   "id": "a665ef4a",
   "metadata": {},
   "outputs": [],
   "source": []
  }
 ],
 "metadata": {
  "kernelspec": {
   "display_name": "Python 3 (ipykernel)",
   "language": "python",
   "name": "python3"
  },
  "language_info": {
   "codemirror_mode": {
    "name": "ipython",
    "version": 3
   },
   "file_extension": ".py",
   "mimetype": "text/x-python",
   "name": "python",
   "nbconvert_exporter": "python",
   "pygments_lexer": "ipython3",
   "version": "3.11.5"
  }
 },
 "nbformat": 4,
 "nbformat_minor": 5
}
